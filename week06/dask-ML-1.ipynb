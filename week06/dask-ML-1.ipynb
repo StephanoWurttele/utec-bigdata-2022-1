{
 "cells": [
  {
   "cell_type": "code",
   "execution_count": null,
   "id": "053fea01-ea6e-48cb-9b16-c8f8ec56f252",
   "metadata": {},
   "outputs": [],
   "source": [
    "from faker import Faker\n",
    "import random\n",
    "fake = Faker()\n",
    "\n",
    "# person_IDs = [1,2,3,4,5,6,7,8]\n",
    "# person_names = ['John', \"Pedro\", \"Jose\", \"Jose\", \"Lucia\", \"Raul\", \"Enrique\", \"Luis\"]\n",
    "\n",
    "N = 100\n",
    "person_IDs = list(range(0,N))\n",
    "person_names = [fake.name() for i in range(0,N)]\n",
    "person_jobs = [fake.job() for i in range(0,N)]\n",
    "person_incomes = [random.randint(0,200) for i in range(0,N)]"
   ]
  },
  {
   "cell_type": "code",
   "execution_count": null,
   "id": "77365e9a-d3de-4845-9965-40ca3d0297af",
   "metadata": {},
   "outputs": [],
   "source": [
    "import pandas as pd\n",
    "import dask.dataframe as dd\n",
    "\n",
    "df = pd.DataFrame({\"person_id\":person_IDs, \"names\":person_names, 'jobs': person_jobs, 'incomes': person_incomes}, columns=['person_id','names', 'jobs', 'incomes'])\n",
    "# df.describe()\n",
    "df.head()"
   ]
  },
  {
   "cell_type": "code",
   "execution_count": null,
   "id": "cec4e204-3f2b-402c-a3bb-fafe5347f83f",
   "metadata": {},
   "outputs": [],
   "source": [
    "dask_df = dd.from_pandas(df, npartitions=10)"
   ]
  },
  {
   "cell_type": "code",
   "execution_count": null,
   "id": "10518bb7-27f3-4e7c-b47e-00c27e598410",
   "metadata": {},
   "outputs": [],
   "source": [
    "dask_df.divisions\n",
    "dask_df.npartitions"
   ]
  },
  {
   "cell_type": "code",
   "execution_count": null,
   "id": "2e1d0fe2-6f24-4cdb-8f2f-88db866ad11d",
   "metadata": {},
   "outputs": [],
   "source": [
    "dask_df.map_partitions(lambda x: len(x)).compute()"
   ]
  },
  {
   "cell_type": "code",
   "execution_count": null,
   "id": "0a06d25b-4ce2-40f4-98aa-970f708091c3",
   "metadata": {},
   "outputs": [],
   "source": [
    "users_filtrados = dask_df[dask_df['jobs']!='Architect'] #compute()\n",
    "users_filtrados.map_partitions(lambda x: len(x)).compute()\n",
    "users_filtrados.visualize()"
   ]
  },
  {
   "cell_type": "code",
   "execution_count": null,
   "id": "7a1fbb0d-055d-4357-b27e-8a67bd1b5926",
   "metadata": {},
   "outputs": [],
   "source": []
  }
 ],
 "metadata": {
  "kernelspec": {
   "display_name": "Python 3 (ipykernel)",
   "language": "python",
   "name": "python3"
  },
  "language_info": {
   "codemirror_mode": {
    "name": "ipython",
    "version": 3
   },
   "file_extension": ".py",
   "mimetype": "text/x-python",
   "name": "python",
   "nbconvert_exporter": "python",
   "pygments_lexer": "ipython3",
   "version": "3.7.13"
  }
 },
 "nbformat": 4,
 "nbformat_minor": 5
}
