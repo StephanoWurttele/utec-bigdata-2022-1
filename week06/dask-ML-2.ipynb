{
 "cells": [
  {
   "cell_type": "markdown",
   "metadata": {},
   "source": [
    "Download the dataset fine foods"
   ]
  },
  {
   "cell_type": "code",
   "execution_count": 2,
   "metadata": {},
   "outputs": [
    {
     "name": "stdout",
     "output_type": "stream",
     "text": [
      "- Downloading Fine Foods dataset... Done!\n"
     ]
    }
   ],
   "source": [
    "\n",
    "import urllib\n",
    "print(\"- Downloading Fine Foods dataset... \", end='', flush=True)\n",
    "url = \"https://snap.stanford.edu/data/finefoods.txt.gz\"\n",
    "filename, headers = urllib.request.urlretrieve(url, '../data/raw/finefoods.txt.gz')\n",
    "print(\"Done!\", flush=True)"
   ]
  },
  {
   "cell_type": "code",
   "execution_count": 10,
   "metadata": {},
   "outputs": [
    {
     "name": "stdout",
     "output_type": "stream",
     "text": [
      "done!\n"
     ]
    }
   ],
   "source": [
    "import gzip\n",
    "\n",
    "with open(filename, mode='rb') as foodscom, open('../data/raw/foods.txt','w',encoding='cp1252') as foods:\n",
    "  foods.write(gzip.decompress(foodscom.read()).decode('cp1252'))\n",
    "\n",
    "print(\"done!\")"
   ]
  },
  {
   "cell_type": "code",
   "execution_count": 11,
   "metadata": {},
   "outputs": [],
   "source": [
    "# Listing 10.1\n",
    "import dask.bag as bag\n",
    "# import os\n",
    "from dask.diagnostics import ProgressBar\n",
    "\n",
    "# os.chdir('/Users/richard/Documents')\n",
    "raw_data = bag.read_text('../data/raw/foods.txt')\n",
    "\n",
    "def get_next_part(file, start_index, span_index=0, blocksize=1024):\n",
    "    file.seek(start_index)\n",
    "    buffer = file.read(blocksize + span_index).decode('cp1252')\n",
    "    delimiter_position = buffer.find('\\n\\n')\n",
    "    if delimiter_position == -1:\n",
    "        return get_next_part(file, start_index, span_index + blocksize)\n",
    "    else:\n",
    "        file.seek(start_index)\n",
    "        return start_index, delimiter_position\n",
    "    \n",
    "def get_item(filename, start_index, delimiter_position, encoding='cp1252'):\n",
    "    with open(filename, 'rb') as file_handle:\n",
    "        file_handle.seek(start_index)\n",
    "        text = file_handle.read(delimiter_position).decode(encoding)\n",
    "        elements = text.strip().split('\\n')\n",
    "        key_value_pairs = [(element.split(': ')[0], element.split(': ')[1]) \n",
    "                               if len(element.split(': ')) > 1 \n",
    "                               else ('unknown', element) \n",
    "                               for element in elements]\n",
    "        return dict(key_value_pairs)\n",
    "    \n",
    "with open('../data/raw/foods.txt', 'rb') as file_handle:\n",
    "    size = file_handle.seek(0,2) - 1\n",
    "    more_data = True\n",
    "    output = []\n",
    "    current_position = next_position = 0\n",
    "    while more_data:\n",
    "        if current_position >= size:\n",
    "            more_data = False\n",
    "        else:\n",
    "            current_position, next_position = get_next_part(file_handle, current_position, 0)\n",
    "            output.append((current_position, next_position))\n",
    "            current_position = current_position + next_position + 2\n",
    "            \n",
    "reviews = bag.from_sequence(output).map(lambda x: get_item('../data/raw/foods.txt', x[0], x[1]))\n",
    "\n",
    "def tag_positive_negative_by_score(element):\n",
    "    if float(element['review/score']) > 3:\n",
    "        element['review/sentiment'] = 'positive'\n",
    "    else:\n",
    "        element['review/sentiment'] = 'negative'\n",
    "    return element\n",
    "\n",
    "tagged_reviews = reviews.map(tag_positive_negative_by_score)"
   ]
  },
  {
   "cell_type": "code",
   "execution_count": 2,
   "metadata": {},
   "outputs": [
    {
     "name": "stderr",
     "output_type": "stream",
     "text": [
      "[nltk_data] Downloading package stopwords to\n",
      "[nltk_data]     /home/serendipita/nltk_data...\n",
      "[nltk_data]   Package stopwords is already up-to-date!\n"
     ]
    },
    {
     "data": {
      "text/plain": [
       "True"
      ]
     },
     "execution_count": 2,
     "metadata": {},
     "output_type": "execute_result"
    }
   ],
   "source": [
    "import nltk\n",
    "nltk.download('stopwords')"
   ]
  },
  {
   "cell_type": "markdown",
   "metadata": {},
   "source": [
    "tagged_reviews"
   ]
  },
  {
   "cell_type": "code",
   "execution_count": 3,
   "metadata": {},
   "outputs": [],
   "source": [
    "# Listing 10.2\n",
    "from nltk.corpus import stopwords\n",
    "from nltk.tokenize import RegexpTokenizer\n",
    "from functools import partial\n",
    "\n",
    "tokenizer = RegexpTokenizer(r'\\w+')\n",
    "\n",
    "def extract_reviews(element):\n",
    "    element['review/tokens'] = element['review/text'].lower()\n",
    "    return element\n",
    "\n",
    "def tokenize_reviews(element):\n",
    "    element['review/tokens'] = tokenizer.tokenize(element['review/tokens'])\n",
    "    return element\n",
    "\n",
    "def filter_stopword(word, stopwords):\n",
    "    return word not in stopwords\n",
    "\n",
    "def filter_stopwords(element, stopwords):\n",
    "    element['review/tokens'] = list(filter(partial(filter_stopword, stopwords=stopwords), element['review/tokens']))\n",
    "    return element\n",
    "\n",
    "stopword_set = set(stopwords.words('english'))\n",
    "more_stopwords = {'br', 'amazon', 'com', 'http', 'www', 'href', 'gp'}\n",
    "all_stopwords = stopword_set.union(more_stopwords)\n",
    "\n",
    "review_extracted_text = tagged_reviews.map(extract_reviews)\n",
    "review_tokens = review_extracted_text.map(tokenize_reviews)\n",
    "review_text_clean = review_tokens.map(partial(filter_stopwords, stopwords=all_stopwords))"
   ]
  },
  {
   "cell_type": "code",
   "execution_count": 4,
   "metadata": {},
   "outputs": [
    {
     "name": "stdout",
     "output_type": "stream",
     "text": [
      "[########################################] | 100% Completed | 24.4s\n"
     ]
    },
    {
     "data": {
      "text/plain": [
       "114290"
      ]
     },
     "execution_count": 4,
     "metadata": {},
     "output_type": "execute_result"
    }
   ],
   "source": [
    "# Listing 10.3\n",
    "def extract_tokens(element):\n",
    "    return element['review/tokens']\n",
    "\n",
    "extracted_tokens = review_text_clean.map(extract_tokens)\n",
    "unique_tokens = extracted_tokens.flatten().distinct()\n",
    "\n",
    "with ProgressBar():\n",
    "    number_of_tokens = unique_tokens.count().compute()\n",
    "number_of_tokens"
   ]
  },
  {
   "cell_type": "code",
   "execution_count": 5,
   "metadata": {},
   "outputs": [
    {
     "name": "stdout",
     "output_type": "stream",
     "text": [
      "[########################################] | 100% Completed | 33.7s\n"
     ]
    }
   ],
   "source": [
    "# Listing 10.4\n",
    "def count(accumulator, element):\n",
    "    return accumulator + 1\n",
    "\n",
    "def combine(total_1, total_2):\n",
    "    return total_1 + total_2\n",
    "\n",
    "with ProgressBar():\n",
    "    token_counts = extracted_tokens.flatten().foldby(lambda x: x, count, 0, combine, 0).compute()\n",
    "    \n",
    "top_tokens = sorted(token_counts, key=lambda x: x[1], reverse=True)\n",
    "top_100_tokens = list(map(lambda x: x[0], top_tokens[:100]))"
   ]
  },
  {
   "cell_type": "code",
   "execution_count": 6,
   "metadata": {},
   "outputs": [
    {
     "data": {
      "text/plain": [
       "({'target': 1,\n",
       "  'features': array([1, 1, 0, 0, 0, 0, 1, 0, 0, 0, 1, 0, 0, 0, 0, 0, 0, 0, 0, 0, 0, 0,\n",
       "         0, 0, 0, 0, 0, 1, 1, 0, 0, 0, 0, 0, 0, 0, 0, 0, 1, 0, 0, 1, 0, 0,\n",
       "         0, 0, 0, 0, 0, 0, 0, 0, 0, 0, 0, 0, 0, 0, 0, 0, 0, 0, 0, 0, 0, 0,\n",
       "         0, 0, 0, 0, 0, 0, 0, 0, 0, 0, 0, 0, 0, 0, 0, 0, 0, 0, 0, 0, 0, 0,\n",
       "         0, 0, 0, 1, 0, 0, 0, 0, 0, 0, 0, 0])},\n",
       " {'target': 0,\n",
       "  'features': array([0, 0, 0, 0, 0, 0, 1, 0, 0, 0, 0, 0, 0, 0, 0, 0, 0, 0, 0, 0, 0, 0,\n",
       "         0, 0, 0, 0, 0, 0, 0, 0, 0, 0, 0, 0, 0, 0, 0, 0, 0, 0, 0, 0, 0, 0,\n",
       "         0, 0, 0, 0, 0, 0, 0, 0, 0, 0, 0, 0, 0, 0, 0, 0, 0, 0, 0, 0, 0, 0,\n",
       "         0, 0, 0, 0, 0, 0, 0, 0, 0, 0, 0, 0, 0, 0, 0, 0, 0, 0, 0, 0, 0, 0,\n",
       "         0, 0, 0, 0, 0, 0, 0, 0, 0, 0, 0, 0])},\n",
       " {'target': 1,\n",
       "  'features': array([0, 0, 0, 0, 0, 0, 0, 0, 0, 0, 0, 0, 0, 0, 0, 0, 0, 0, 0, 0, 0, 0,\n",
       "         0, 0, 0, 0, 0, 0, 0, 0, 0, 0, 0, 0, 0, 0, 0, 1, 0, 0, 0, 0, 0, 0,\n",
       "         0, 0, 0, 0, 0, 0, 0, 0, 0, 0, 0, 0, 0, 0, 0, 0, 1, 0, 0, 0, 0, 0,\n",
       "         0, 0, 0, 0, 0, 0, 0, 0, 0, 0, 0, 0, 0, 0, 0, 0, 0, 0, 0, 0, 0, 0,\n",
       "         0, 0, 0, 0, 0, 0, 0, 0, 0, 0, 0, 0])},\n",
       " {'target': 0,\n",
       "  'features': array([0, 1, 0, 0, 0, 0, 0, 1, 0, 0, 0, 0, 0, 0, 0, 0, 0, 0, 0, 0, 0, 0,\n",
       "         0, 0, 0, 0, 0, 0, 0, 0, 0, 0, 0, 0, 0, 0, 0, 0, 1, 0, 0, 0, 1, 0,\n",
       "         0, 0, 0, 0, 0, 0, 0, 0, 0, 0, 0, 0, 0, 0, 0, 0, 0, 0, 1, 0, 0, 0,\n",
       "         0, 0, 0, 0, 0, 0, 0, 0, 0, 0, 0, 0, 0, 0, 0, 0, 0, 0, 0, 0, 0, 0,\n",
       "         0, 0, 0, 0, 0, 0, 0, 0, 0, 0, 0, 0])},\n",
       " {'target': 1,\n",
       "  'features': array([0, 0, 0, 0, 1, 0, 0, 0, 0, 0, 0, 0, 0, 0, 0, 0, 0, 0, 0, 0, 0, 0,\n",
       "         1, 0, 0, 0, 0, 0, 0, 0, 0, 0, 0, 0, 0, 0, 0, 0, 0, 0, 0, 0, 0, 0,\n",
       "         0, 0, 0, 0, 0, 0, 0, 0, 0, 0, 0, 0, 0, 0, 0, 0, 0, 0, 0, 0, 0, 0,\n",
       "         0, 0, 0, 0, 0, 0, 0, 0, 0, 0, 0, 0, 0, 0, 0, 0, 0, 0, 0, 0, 0, 0,\n",
       "         0, 0, 0, 0, 0, 0, 0, 0, 0, 0, 0, 0])})"
      ]
     },
     "execution_count": 6,
     "metadata": {},
     "output_type": "execute_result"
    }
   ],
   "source": [
    "# Listing 10.5\n",
    "import numpy as np\n",
    "def vectorize_tokens(element):\n",
    "    vectorized_tokens = np.where(np.isin(top_100_tokens, element['review/tokens']), 1, 0)\n",
    "    element['review/token_vector'] = vectorized_tokens\n",
    "    return element\n",
    "\n",
    "def prep_model_data(element):\n",
    "    return {'target': 1 if element['review/sentiment'] == 'positive' else 0,\n",
    "            'features': element['review/token_vector']}\n",
    "\n",
    "model_data = review_text_clean.map(vectorize_tokens).map(prep_model_data)\n",
    "\n",
    "model_data.take(5)"
   ]
  },
  {
   "cell_type": "code",
   "execution_count": 7,
   "metadata": {},
   "outputs": [
    {
     "name": "stdout",
     "output_type": "stream",
     "text": [
      "[########################################] | 100% Completed | 14min 13.1s\n"
     ]
    },
    {
     "data": {
      "text/html": [
       "<table>\n",
       "    <tr>\n",
       "        <td>\n",
       "            <table>\n",
       "                <thead>\n",
       "                    <tr>\n",
       "                        <td> </td>\n",
       "                        <th> Array </th>\n",
       "                        <th> Chunk </th>\n",
       "                    </tr>\n",
       "                </thead>\n",
       "                <tbody>\n",
       "                    \n",
       "                    <tr>\n",
       "                        <th> Bytes </th>\n",
       "                        <td> 433.70 MiB </td>\n",
       "                        <td> 800 B </td>\n",
       "                    </tr>\n",
       "                    \n",
       "                    <tr>\n",
       "                        <th> Shape </th>\n",
       "                        <td> (568454, 100) </td>\n",
       "                        <td> (1, 100) </td>\n",
       "                    </tr>\n",
       "                    <tr>\n",
       "                        <th> Count </th>\n",
       "                        <td> 2979350 Tasks </td>\n",
       "                        <td> 568454 Chunks </td>\n",
       "                    </tr>\n",
       "                    <tr>\n",
       "                    <th> Type </th>\n",
       "                    <td> int64 </td>\n",
       "                    <td> numpy.ndarray </td>\n",
       "                    </tr>\n",
       "                </tbody>\n",
       "            </table>\n",
       "        </td>\n",
       "        <td>\n",
       "        <svg width=\"75\" height=\"170\" style=\"stroke:rgb(0,0,0);stroke-width:1\" >\n",
       "\n",
       "  <!-- Horizontal lines -->\n",
       "  <line x1=\"0\" y1=\"0\" x2=\"25\" y2=\"0\" style=\"stroke-width:2\" />\n",
       "  <line x1=\"0\" y1=\"6\" x2=\"25\" y2=\"6\" />\n",
       "  <line x1=\"0\" y1=\"12\" x2=\"25\" y2=\"12\" />\n",
       "  <line x1=\"0\" y1=\"18\" x2=\"25\" y2=\"18\" />\n",
       "  <line x1=\"0\" y1=\"25\" x2=\"25\" y2=\"25\" />\n",
       "  <line x1=\"0\" y1=\"31\" x2=\"25\" y2=\"31\" />\n",
       "  <line x1=\"0\" y1=\"37\" x2=\"25\" y2=\"37\" />\n",
       "  <line x1=\"0\" y1=\"44\" x2=\"25\" y2=\"44\" />\n",
       "  <line x1=\"0\" y1=\"50\" x2=\"25\" y2=\"50\" />\n",
       "  <line x1=\"0\" y1=\"56\" x2=\"25\" y2=\"56\" />\n",
       "  <line x1=\"0\" y1=\"63\" x2=\"25\" y2=\"63\" />\n",
       "  <line x1=\"0\" y1=\"69\" x2=\"25\" y2=\"69\" />\n",
       "  <line x1=\"0\" y1=\"75\" x2=\"25\" y2=\"75\" />\n",
       "  <line x1=\"0\" y1=\"82\" x2=\"25\" y2=\"82\" />\n",
       "  <line x1=\"0\" y1=\"88\" x2=\"25\" y2=\"88\" />\n",
       "  <line x1=\"0\" y1=\"94\" x2=\"25\" y2=\"94\" />\n",
       "  <line x1=\"0\" y1=\"101\" x2=\"25\" y2=\"101\" />\n",
       "  <line x1=\"0\" y1=\"107\" x2=\"25\" y2=\"107\" />\n",
       "  <line x1=\"0\" y1=\"113\" x2=\"25\" y2=\"113\" />\n",
       "  <line x1=\"0\" y1=\"120\" x2=\"25\" y2=\"120\" style=\"stroke-width:2\" />\n",
       "\n",
       "  <!-- Vertical lines -->\n",
       "  <line x1=\"0\" y1=\"0\" x2=\"0\" y2=\"120\" style=\"stroke-width:2\" />\n",
       "  <line x1=\"25\" y1=\"0\" x2=\"25\" y2=\"120\" style=\"stroke-width:2\" />\n",
       "\n",
       "  <!-- Colored Rectangle -->\n",
       "  <polygon points=\"0.0,0.0 25.41261651458249,0.0 25.41261651458249,120.0 0.0,120.0\" style=\"fill:#8B4903A0;stroke-width:0\"/>\n",
       "\n",
       "  <!-- Text -->\n",
       "  <text x=\"12.706308\" y=\"140.000000\" font-size=\"1.0rem\" font-weight=\"100\" text-anchor=\"middle\" >100</text>\n",
       "  <text x=\"45.412617\" y=\"60.000000\" font-size=\"1.0rem\" font-weight=\"100\" text-anchor=\"middle\" transform=\"rotate(-90,45.412617,60.000000)\">568454</text>\n",
       "</svg>\n",
       "        </td>\n",
       "    </tr>\n",
       "</table>"
      ],
      "text/plain": [
       "dask.array<concatenate, shape=(568454, 100), dtype=int64, chunksize=(1, 100), chunktype=numpy.ndarray>"
      ]
     },
     "execution_count": 7,
     "metadata": {},
     "output_type": "execute_result"
    }
   ],
   "source": [
    "# Listing 10.6\n",
    "from dask import array as dask_array\n",
    "def stacker(partition):\n",
    "    return dask_array.concatenate([element for element in partition])\n",
    "\n",
    "with ProgressBar():\n",
    "    feature_arrays = model_data.pluck('features').map(lambda x: dask_array.from_array(x, 1000).reshape(1,-1)).reduction(perpartition=stacker, aggregate=stacker)\n",
    "    feature_array = feature_arrays.compute()\n",
    "feature_array"
   ]
  },
  {
   "cell_type": "code",
   "execution_count": 8,
   "metadata": {},
   "outputs": [
    {
     "name": "stdout",
     "output_type": "stream",
     "text": [
      "[########################################] | 100% Completed |  5min 19.5s\n",
      "[########################################] | 100% Completed |  3min 45.0s\n",
      "[########################################] | 100% Completed |  3min  0.9s\n"
     ]
    }
   ],
   "source": [
    "# Listing 10.7\n",
    "with ProgressBar():\n",
    "    feature_array.rechunk(5000).to_zarr('sentiment_feature_array.zarr')\n",
    "    feature_array = dask_array.from_zarr('sentiment_feature_array.zarr')\n",
    "    \n",
    "with ProgressBar():\n",
    "    target_arrays = model_data.pluck('target').map(lambda x: dask_array.from_array(x, 1000).reshape(-1,1)).reduction(perpartition=stacker, aggregate=stacker)\n",
    "    target_arrays.compute().rechunk(5000).to_zarr('sentiment_target_array.zarr')\n",
    "    target_array = dask_array.from_zarr('sentiment_target_array.zarr')"
   ]
  },
  {
   "cell_type": "code",
   "execution_count": 11,
   "metadata": {},
   "outputs": [],
   "source": [
    "# test at the moment added recently\n",
    "import dask.bag as bag\n",
    "from dask import array as dask_array\n",
    "from dask.diagnostics import ProgressBar\n",
    "with ProgressBar():\n",
    "    feature_array = dask_array.from_zarr('sentiment_feature_array.zarr')\n",
    "    target_array = dask_array.from_zarr('sentiment_target_array.zarr')"
   ]
  },
  {
   "cell_type": "markdown",
   "metadata": {},
   "source": [
    "### week 06 part 5"
   ]
  },
  {
   "cell_type": "code",
   "execution_count": 12,
   "metadata": {},
   "outputs": [
    {
     "name": "stdout",
     "output_type": "stream",
     "text": [
      "[########################################] | 100% Completed |  0.8s\n",
      "[##                                      ] | 7% Completed |  0.2s"
     ]
    },
    {
     "name": "stderr",
     "output_type": "stream",
     "text": [
      "/home/serendipita/anaconda3/envs/utec-bigdata-2022-1/lib/python3.7/site-packages/dask_glm/utils.py:52: RuntimeWarning: overflow encountered in exp\n",
      "  return np.exp(A)\n"
     ]
    },
    {
     "name": "stdout",
     "output_type": "stream",
     "text": [
      "[########################################] | 100% Completed |  7.0s\n",
      "[########################################] | 100% Completed |  7.0s\n",
      "[########################################] | 100% Completed |  6.5s\n",
      "[########################################] | 100% Completed |  6.0s\n",
      "[########################################] | 100% Completed |  6.8s\n",
      "[########################################] | 100% Completed |  6.3s\n",
      "[########################################] | 100% Completed |  6.9s\n",
      "[########################################] | 100% Completed |  7.1s\n",
      "[########################################] | 100% Completed |  6.9s\n",
      "[########################################] | 100% Completed |  7.0s\n",
      "[########################################] | 100% Completed |  6.9s\n",
      "[########################################] | 100% Completed |  6.7s\n",
      "[########################################] | 100% Completed |  6.6s\n",
      "[########################################] | 100% Completed |  6.5s\n",
      "[########################################] | 100% Completed |  6.5s\n",
      "[########################################] | 100% Completed |  6.8s\n",
      "[########################################] | 100% Completed |  6.7s\n",
      "[########################################] | 100% Completed |  6.7s\n",
      "[########################################] | 100% Completed |  6.7s\n",
      "[########################################] | 100% Completed |  6.7s\n",
      "[########################################] | 100% Completed |  6.8s\n",
      "[########################################] | 100% Completed |  7.1s\n",
      "[########################################] | 100% Completed |  7.2s\n",
      "[########################################] | 100% Completed |  6.9s\n",
      "[########################################] | 100% Completed |  6.8s\n",
      "[########################################] | 100% Completed |  6.7s\n",
      "[########################################] | 100% Completed |  6.4s\n",
      "[########################################] | 100% Completed |  6.9s\n",
      "[########################################] | 100% Completed |  6.6s\n",
      "[########################################] | 100% Completed |  6.6s\n",
      "[########################################] | 100% Completed |  6.7s\n",
      "[########################################] | 100% Completed |  6.8s\n",
      "[########################################] | 100% Completed |  6.7s\n",
      "[########################################] | 100% Completed |  6.9s\n",
      "[########################################] | 100% Completed |  6.4s\n",
      "[########################################] | 100% Completed |  6.4s\n",
      "[########################################] | 100% Completed |  6.7s\n",
      "[########################################] | 100% Completed |  6.8s\n",
      "[########################################] | 100% Completed |  7.3s\n",
      "[########################################] | 100% Completed |  7.3s\n",
      "[########################################] | 100% Completed |  6.6s\n",
      "[########################################] | 100% Completed |  6.7s\n",
      "[########################################] | 100% Completed |  6.8s\n",
      "[########################################] | 100% Completed |  6.6s\n",
      "[########################################] | 100% Completed |  6.8s\n",
      "[########################################] | 100% Completed |  6.8s\n",
      "[########################################] | 100% Completed |  7.3s\n",
      "[########################################] | 100% Completed |  7.1s\n",
      "[########################################] | 100% Completed |  7.1s\n",
      "[########################################] | 100% Completed |  6.6s\n",
      "[########################################] | 100% Completed |  6.0s\n",
      "[########################################] | 100% Completed |  6.3s\n",
      "[########################################] | 100% Completed |  6.6s\n",
      "[########################################] | 100% Completed |  6.2s\n",
      "[########################################] | 100% Completed |  6.2s\n",
      "[########################################] | 100% Completed |  6.4s\n",
      "[########################################] | 100% Completed |  6.0s\n",
      "[########################################] | 100% Completed |  6.7s\n",
      "[########################################] | 100% Completed |  6.4s\n",
      "[########################################] | 100% Completed |  6.6s\n",
      "[########################################] | 100% Completed |  7.3s\n",
      "[########################################] | 100% Completed |  6.3s\n",
      "[########################################] | 100% Completed |  6.2s\n",
      "[########################################] | 100% Completed |  6.8s\n",
      "[########################################] | 100% Completed |  6.7s\n",
      "[########################################] | 100% Completed |  6.8s\n",
      "[########################################] | 100% Completed |  6.7s\n",
      "[########################################] | 100% Completed |  6.9s\n",
      "[########################################] | 100% Completed |  6.8s\n",
      "[########################################] | 100% Completed |  6.7s\n",
      "[########################################] | 100% Completed |  6.6s\n",
      "[########################################] | 100% Completed |  6.8s\n",
      "[########################################] | 100% Completed |  6.8s\n",
      "[########################################] | 100% Completed |  6.3s\n",
      "[########################################] | 100% Completed |  6.1s\n",
      "[########################################] | 100% Completed |  5.9s\n",
      "[########################################] | 100% Completed |  6.5s\n",
      "[########################################] | 100% Completed |  6.3s\n",
      "[########################################] | 100% Completed |  6.6s\n",
      "[########################################] | 100% Completed |  6.1s\n",
      "[########################################] | 100% Completed |  5.8s\n",
      "[########################################] | 100% Completed |  6.4s\n",
      "[########################################] | 100% Completed |  6.5s\n",
      "[########################################] | 100% Completed |  6.1s\n",
      "[########################################] | 100% Completed |  6.2s\n",
      "[########################################] | 100% Completed |  6.1s\n",
      "[########################################] | 100% Completed |  6.4s\n",
      "[########################################] | 100% Completed |  6.1s\n",
      "[########################################] | 100% Completed |  6.2s\n",
      "[########################################] | 100% Completed |  6.7s\n",
      "[########################################] | 100% Completed |  6.9s\n",
      "[########################################] | 100% Completed |  6.5s\n",
      "[########################################] | 100% Completed |  6.5s\n",
      "[########################################] | 100% Completed |  6.6s\n",
      "[########################################] | 100% Completed |  6.8s\n",
      "[########################################] | 100% Completed |  6.4s\n",
      "[########################################] | 100% Completed |  6.6s\n",
      "[########################################] | 100% Completed |  6.5s\n",
      "[########################################] | 100% Completed |  6.4s\n",
      "[########################################] | 100% Completed |  6.6s\n"
     ]
    }
   ],
   "source": [
    "# Listing 10.8\n",
    "from dask_ml.linear_model import LogisticRegression\n",
    "from dask_ml.model_selection import train_test_split\n",
    "\n",
    "X = feature_array\n",
    "y = target_array.flatten()\n",
    "\n",
    "X_train, X_test, y_train, y_test = train_test_split(X, y, random_state=42)\n",
    "\n",
    "lr = LogisticRegression()\n",
    "\n",
    "with ProgressBar():\n",
    "    lr.fit(X_train, y_train)"
   ]
  },
  {
   "cell_type": "markdown",
   "metadata": {},
   "source": [
    "### Section 10.2.1"
   ]
  },
  {
   "cell_type": "code",
   "execution_count": 13,
   "metadata": {},
   "outputs": [
    {
     "data": {
      "text/plain": [
       "0.7968370685712275"
      ]
     },
     "execution_count": 13,
     "metadata": {},
     "output_type": "execute_result"
    }
   ],
   "source": [
    "# Listing 10.9\n",
    "lr.score(X_test, y_test).compute()"
   ]
  },
  {
   "cell_type": "markdown",
   "metadata": {},
   "source": [
    "### week06 part 4"
   ]
  },
  {
   "cell_type": "code",
   "execution_count": 14,
   "metadata": {},
   "outputs": [
    {
     "name": "stdout",
     "output_type": "stream",
     "text": [
      "[########################################] | 100% Completed |  2.9s\n"
     ]
    }
   ],
   "source": [
    "# Listing 10.10\n",
    "from sklearn.naive_bayes import BernoulliNB\n",
    "from dask_ml.wrappers import Incremental\n",
    "\n",
    "nb = BernoulliNB()\n",
    "\n",
    "parallel_nb = Incremental(nb)\n",
    "\n",
    "with ProgressBar():\n",
    "    parallel_nb.fit(X_train, y_train, classes=[0,1])"
   ]
  },
  {
   "cell_type": "code",
   "execution_count": 15,
   "metadata": {},
   "outputs": [
    {
     "data": {
      "text/plain": [
       "0.7898356964430215"
      ]
     },
     "execution_count": 15,
     "metadata": {},
     "output_type": "execute_result"
    }
   ],
   "source": [
    "# Listing 10.11\n",
    "parallel_nb.score(X_test, y_test)"
   ]
  },
  {
   "cell_type": "markdown",
   "metadata": {},
   "source": [
    "### week06 10.2.3"
   ]
  },
  {
   "cell_type": "code",
   "execution_count": 16,
   "metadata": {},
   "outputs": [
    {
     "name": "stdout",
     "output_type": "stream",
     "text": [
      "[########################################] | 100% Completed | 31min 46.7s\n",
      "[########################################] | 100% Completed |  8min 24.5s\n"
     ]
    }
   ],
   "source": [
    "# Listing 10.12\n",
    "from dask_ml.model_selection import GridSearchCV\n",
    "\n",
    "parameters = {'penalty': ['l1', 'l2'], 'C': [0.5, 1, 2]}\n",
    "\n",
    "lr = LogisticRegression()\n",
    "tuned_lr = GridSearchCV(lr, parameters)\n",
    "\n",
    "with ProgressBar():\n",
    "    tuned_lr.fit(X_train, y_train)   "
   ]
  },
  {
   "cell_type": "code",
   "execution_count": 17,
   "metadata": {},
   "outputs": [
    {
     "data": {
      "text/html": [
       "<div>\n",
       "<style scoped>\n",
       "    .dataframe tbody tr th:only-of-type {\n",
       "        vertical-align: middle;\n",
       "    }\n",
       "\n",
       "    .dataframe tbody tr th {\n",
       "        vertical-align: top;\n",
       "    }\n",
       "\n",
       "    .dataframe thead th {\n",
       "        text-align: right;\n",
       "    }\n",
       "</style>\n",
       "<table border=\"1\" class=\"dataframe\">\n",
       "  <thead>\n",
       "    <tr style=\"text-align: right;\">\n",
       "      <th></th>\n",
       "      <th>params</th>\n",
       "      <th>mean_fit_time</th>\n",
       "      <th>std_fit_time</th>\n",
       "      <th>mean_score_time</th>\n",
       "      <th>std_score_time</th>\n",
       "      <th>split0_test_score</th>\n",
       "      <th>split1_test_score</th>\n",
       "      <th>split2_test_score</th>\n",
       "      <th>mean_test_score</th>\n",
       "      <th>std_test_score</th>\n",
       "      <th>rank_test_score</th>\n",
       "      <th>param_C</th>\n",
       "      <th>param_penalty</th>\n",
       "    </tr>\n",
       "  </thead>\n",
       "  <tbody>\n",
       "    <tr>\n",
       "      <th>0</th>\n",
       "      <td>{'C': 0.5, 'penalty': 'l1'}</td>\n",
       "      <td>1894.814204</td>\n",
       "      <td>4.237300</td>\n",
       "      <td>2.762652</td>\n",
       "      <td>1.793734</td>\n",
       "      <td>0.790660</td>\n",
       "      <td>0.794090</td>\n",
       "      <td>0.796506</td>\n",
       "      <td>0.793752</td>\n",
       "      <td>0.002399</td>\n",
       "      <td>1</td>\n",
       "      <td>0.5</td>\n",
       "      <td>l1</td>\n",
       "    </tr>\n",
       "    <tr>\n",
       "      <th>1</th>\n",
       "      <td>{'C': 0.5, 'penalty': 'l2'}</td>\n",
       "      <td>377.200217</td>\n",
       "      <td>6.974454</td>\n",
       "      <td>6.257253</td>\n",
       "      <td>0.446388</td>\n",
       "      <td>0.790836</td>\n",
       "      <td>0.793821</td>\n",
       "      <td>0.796477</td>\n",
       "      <td>0.793711</td>\n",
       "      <td>0.002304</td>\n",
       "      <td>2</td>\n",
       "      <td>0.5</td>\n",
       "      <td>l2</td>\n",
       "    </tr>\n",
       "    <tr>\n",
       "      <th>2</th>\n",
       "      <td>{'C': 1, 'penalty': 'l1'}</td>\n",
       "      <td>1834.167502</td>\n",
       "      <td>50.909252</td>\n",
       "      <td>3.119642</td>\n",
       "      <td>1.678937</td>\n",
       "      <td>0.790736</td>\n",
       "      <td>0.793668</td>\n",
       "      <td>0.796483</td>\n",
       "      <td>0.793629</td>\n",
       "      <td>0.002346</td>\n",
       "      <td>6</td>\n",
       "      <td>1</td>\n",
       "      <td>l1</td>\n",
       "    </tr>\n",
       "    <tr>\n",
       "      <th>3</th>\n",
       "      <td>{'C': 1, 'penalty': 'l2'}</td>\n",
       "      <td>233.634461</td>\n",
       "      <td>0.233799</td>\n",
       "      <td>5.780558</td>\n",
       "      <td>0.168163</td>\n",
       "      <td>0.790836</td>\n",
       "      <td>0.793821</td>\n",
       "      <td>0.796477</td>\n",
       "      <td>0.793711</td>\n",
       "      <td>0.002304</td>\n",
       "      <td>2</td>\n",
       "      <td>1</td>\n",
       "      <td>l2</td>\n",
       "    </tr>\n",
       "    <tr>\n",
       "      <th>4</th>\n",
       "      <td>{'C': 2, 'penalty': 'l1'}</td>\n",
       "      <td>1076.348245</td>\n",
       "      <td>40.163175</td>\n",
       "      <td>0.972806</td>\n",
       "      <td>0.106549</td>\n",
       "      <td>0.790707</td>\n",
       "      <td>0.793727</td>\n",
       "      <td>0.796512</td>\n",
       "      <td>0.793649</td>\n",
       "      <td>0.002371</td>\n",
       "      <td>5</td>\n",
       "      <td>2</td>\n",
       "      <td>l1</td>\n",
       "    </tr>\n",
       "    <tr>\n",
       "      <th>5</th>\n",
       "      <td>{'C': 2, 'penalty': 'l2'}</td>\n",
       "      <td>184.970602</td>\n",
       "      <td>2.386207</td>\n",
       "      <td>3.145777</td>\n",
       "      <td>1.626576</td>\n",
       "      <td>0.790836</td>\n",
       "      <td>0.793821</td>\n",
       "      <td>0.796477</td>\n",
       "      <td>0.793711</td>\n",
       "      <td>0.002304</td>\n",
       "      <td>2</td>\n",
       "      <td>2</td>\n",
       "      <td>l2</td>\n",
       "    </tr>\n",
       "  </tbody>\n",
       "</table>\n",
       "</div>"
      ],
      "text/plain": [
       "                        params  mean_fit_time  std_fit_time  mean_score_time  \\\n",
       "0  {'C': 0.5, 'penalty': 'l1'}    1894.814204      4.237300         2.762652   \n",
       "1  {'C': 0.5, 'penalty': 'l2'}     377.200217      6.974454         6.257253   \n",
       "2    {'C': 1, 'penalty': 'l1'}    1834.167502     50.909252         3.119642   \n",
       "3    {'C': 1, 'penalty': 'l2'}     233.634461      0.233799         5.780558   \n",
       "4    {'C': 2, 'penalty': 'l1'}    1076.348245     40.163175         0.972806   \n",
       "5    {'C': 2, 'penalty': 'l2'}     184.970602      2.386207         3.145777   \n",
       "\n",
       "   std_score_time  split0_test_score  split1_test_score  split2_test_score  \\\n",
       "0        1.793734           0.790660           0.794090           0.796506   \n",
       "1        0.446388           0.790836           0.793821           0.796477   \n",
       "2        1.678937           0.790736           0.793668           0.796483   \n",
       "3        0.168163           0.790836           0.793821           0.796477   \n",
       "4        0.106549           0.790707           0.793727           0.796512   \n",
       "5        1.626576           0.790836           0.793821           0.796477   \n",
       "\n",
       "   mean_test_score  std_test_score  rank_test_score param_C param_penalty  \n",
       "0         0.793752        0.002399                1     0.5            l1  \n",
       "1         0.793711        0.002304                2     0.5            l2  \n",
       "2         0.793629        0.002346                6       1            l1  \n",
       "3         0.793711        0.002304                2       1            l2  \n",
       "4         0.793649        0.002371                5       2            l1  \n",
       "5         0.793711        0.002304                2       2            l2  "
      ]
     },
     "execution_count": 17,
     "metadata": {},
     "output_type": "execute_result"
    }
   ],
   "source": [
    "# Listing 10.13\n",
    "import pandas as pd\n",
    "pd.DataFrame(tuned_lr.cv_results_)"
   ]
  },
  {
   "cell_type": "markdown",
   "metadata": {},
   "source": [
    "### week 06"
   ]
  },
  {
   "cell_type": "code",
   "execution_count": 18,
   "metadata": {},
   "outputs": [],
   "source": [
    "# Listing 14\n",
    "import dill\n",
    "with open('naive_bayes_model.pkl', 'wb') as file:\n",
    "    dill.dump(parallel_nb, file)"
   ]
  },
  {
   "cell_type": "code",
   "execution_count": 22,
   "metadata": {},
   "outputs": [],
   "source": [
    "import numpy as np"
   ]
  },
  {
   "cell_type": "code",
   "execution_count": 23,
   "metadata": {},
   "outputs": [
    {
     "data": {
      "text/plain": [
       "array([1, 1, 1, 1, 1, 1, 1, 1, 1, 1, 1, 1, 1, 1, 1, 0, 1, 1, 1, 1, 1, 1,\n",
       "       1, 1, 1, 1, 1, 1, 1, 1, 1, 1, 1, 1, 1, 1, 1, 1, 1, 1, 1, 1, 1, 1,\n",
       "       1, 1, 1, 1, 1, 1, 1, 1, 1, 1, 1, 1, 1, 1, 1, 1, 1, 1, 1, 1, 1, 1,\n",
       "       1, 1, 1, 1, 1, 1, 1, 1, 1, 1, 1, 1, 1, 1, 1, 1, 1, 1, 1, 1, 1, 1,\n",
       "       1, 1, 1, 1, 1, 1, 1, 1, 1, 1, 1, 1])"
      ]
     },
     "execution_count": 23,
     "metadata": {},
     "output_type": "execute_result"
    }
   ],
   "source": [
    "# Listing 15\n",
    "with open('naive_bayes_model.pkl', 'rb') as file:\n",
    "    nb = dill.load(file)\n",
    "nb.predict(np.random.randint(0,2,(100,100)))"
   ]
  }
 ],
 "metadata": {
  "kernelspec": {
   "display_name": "Python 3.7.13 64-bit ('utec-bigdata-2022-1': conda)",
   "name": "python3713jvsc74a57bd07d677199d9b541457fe510993f276d586c33513323be87ae8449f42738a47960"
  },
  "language_info": {
   "codemirror_mode": {
    "name": "ipython",
    "version": 3
   },
   "file_extension": ".py",
   "mimetype": "text/x-python",
   "name": "python",
   "nbconvert_exporter": "python",
   "pygments_lexer": "ipython3",
   "version": "3.7.13"
  }
 },
 "nbformat": 4,
 "nbformat_minor": 4
}